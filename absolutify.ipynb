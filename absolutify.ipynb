{
 "cells": [
  {
   "cell_type": "markdown",
   "id": "594e4534-b65a-4949-bef8-b27ef2da5f48",
   "metadata": {},
   "source": [
    "Future of coding, part 1: convert relative imports to absolute."
   ]
  },
  {
   "cell_type": "code",
   "execution_count": 12,
   "id": "e3846293-426f-4281-ad6f-511b6f9a8ac0",
   "metadata": {
    "tags": []
   },
   "outputs": [],
   "source": [
    "import libcst as cst\n",
    "\n",
    "project_name = 'opentaxforms'"
   ]
  },
  {
   "cell_type": "code",
   "execution_count": 13,
   "id": "b5a8f8e5-a5a3-49be-9391-0c0406d69a70",
   "metadata": {
    "tags": []
   },
   "outputs": [
    {
     "data": {
      "text/plain": [
       "Module(\n",
       "    body=[\n",
       "        SimpleStatementLine(\n",
       "            body=[\n",
       "                ImportFrom(\n",
       "                    module=None,\n",
       "                    names=[\n",
       "                        ImportAlias(\n",
       "                            name=Name(\n",
       "                                value='c',\n",
       "                                lpar=[],\n",
       "                                rpar=[],\n",
       "                            ),\n",
       "                            asname=None,\n",
       "                            comma=MaybeSentinel.DEFAULT,\n",
       "                        ),\n",
       "                    ],\n",
       "                    relative=[\n",
       "                        Dot(\n",
       "                            whitespace_before=SimpleWhitespace(\n",
       "                                value='',\n",
       "                            ),\n",
       "                            whitespace_after=SimpleWhitespace(\n",
       "                                value='',\n",
       "                            ),\n",
       "                        ),\n",
       "                    ],\n",
       "                    lpar=None,\n",
       "                    rpar=None,\n",
       "                    semicolon=MaybeSentinel.DEFAULT,\n",
       "                    whitespace_after_from=SimpleWhitespace(\n",
       "                        value=' ',\n",
       "                    ),\n",
       "                    whitespace_before_import=SimpleWhitespace(\n",
       "                        value=' ',\n",
       "                    ),\n",
       "                    whitespace_after_import=SimpleWhitespace(\n",
       "                        value=' ',\n",
       "                    ),\n",
       "                ),\n",
       "            ],\n",
       "            leading_lines=[],\n",
       "            trailing_whitespace=TrailingWhitespace(\n",
       "                whitespace=SimpleWhitespace(\n",
       "                    value='',\n",
       "                ),\n",
       "                comment=None,\n",
       "                newline=Newline(\n",
       "                    value=None,\n",
       "                ),\n",
       "            ),\n",
       "        ),\n",
       "    ],\n",
       "    header=[],\n",
       "    footer=[],\n",
       "    encoding='utf-8',\n",
       "    default_indent='    ',\n",
       "    default_newline='\\n',\n",
       "    has_trailing_newline=False,\n",
       ")"
      ]
     },
     "execution_count": 13,
     "metadata": {},
     "output_type": "execute_result"
    }
   ],
   "source": [
    "# relative import from dot\n",
    "# ImportFrom.module is None and ImportFrom.relative is nonempty.\n",
    "cst.parse_module('from . import c')"
   ]
  },
  {
   "cell_type": "code",
   "execution_count": 14,
   "id": "a1f8b33a-c10b-4c17-a50a-228042f4ffbf",
   "metadata": {},
   "outputs": [
    {
     "data": {
      "text/plain": [
       "Module(\n",
       "    body=[\n",
       "        SimpleStatementLine(\n",
       "            body=[\n",
       "                ImportFrom(\n",
       "                    module=Name(\n",
       "                        value='b',\n",
       "                        lpar=[],\n",
       "                        rpar=[],\n",
       "                    ),\n",
       "                    names=[\n",
       "                        ImportAlias(\n",
       "                            name=Name(\n",
       "                                value='c',\n",
       "                                lpar=[],\n",
       "                                rpar=[],\n",
       "                            ),\n",
       "                            asname=None,\n",
       "                            comma=MaybeSentinel.DEFAULT,\n",
       "                        ),\n",
       "                    ],\n",
       "                    relative=[\n",
       "                        Dot(\n",
       "                            whitespace_before=SimpleWhitespace(\n",
       "                                value='',\n",
       "                            ),\n",
       "                            whitespace_after=SimpleWhitespace(\n",
       "                                value='',\n",
       "                            ),\n",
       "                        ),\n",
       "                    ],\n",
       "                    lpar=None,\n",
       "                    rpar=None,\n",
       "                    semicolon=MaybeSentinel.DEFAULT,\n",
       "                    whitespace_after_from=SimpleWhitespace(\n",
       "                        value=' ',\n",
       "                    ),\n",
       "                    whitespace_before_import=SimpleWhitespace(\n",
       "                        value=' ',\n",
       "                    ),\n",
       "                    whitespace_after_import=SimpleWhitespace(\n",
       "                        value=' ',\n",
       "                    ),\n",
       "                ),\n",
       "            ],\n",
       "            leading_lines=[],\n",
       "            trailing_whitespace=TrailingWhitespace(\n",
       "                whitespace=SimpleWhitespace(\n",
       "                    value='',\n",
       "                ),\n",
       "                comment=None,\n",
       "                newline=Newline(\n",
       "                    value=None,\n",
       "                ),\n",
       "            ),\n",
       "        ),\n",
       "    ],\n",
       "    header=[],\n",
       "    footer=[],\n",
       "    encoding='utf-8',\n",
       "    default_indent='    ',\n",
       "    default_newline='\\n',\n",
       "    has_trailing_newline=False,\n",
       ")"
      ]
     },
     "execution_count": 14,
     "metadata": {},
     "output_type": "execute_result"
    }
   ],
   "source": [
    "# relative import from named module\n",
    "# ImportFrom.module is a Name and ImportFrom.relative is nonempty.\n",
    "cst.parse_module('from .b import c')"
   ]
  },
  {
   "cell_type": "code",
   "execution_count": 15,
   "id": "dad85964-d1f9-4cb3-b41a-762da870f1eb",
   "metadata": {},
   "outputs": [
    {
     "data": {
      "text/plain": [
       "Module(\n",
       "    body=[\n",
       "        SimpleStatementLine(\n",
       "            body=[\n",
       "                ImportFrom(\n",
       "                    module=Attribute(\n",
       "                        value=Name(\n",
       "                            value='a',\n",
       "                            lpar=[],\n",
       "                            rpar=[],\n",
       "                        ),\n",
       "                        attr=Name(\n",
       "                            value='b',\n",
       "                            lpar=[],\n",
       "                            rpar=[],\n",
       "                        ),\n",
       "                        dot=Dot(\n",
       "                            whitespace_before=SimpleWhitespace(\n",
       "                                value='',\n",
       "                            ),\n",
       "                            whitespace_after=SimpleWhitespace(\n",
       "                                value='',\n",
       "                            ),\n",
       "                        ),\n",
       "                        lpar=[],\n",
       "                        rpar=[],\n",
       "                    ),\n",
       "                    names=[\n",
       "                        ImportAlias(\n",
       "                            name=Name(\n",
       "                                value='c',\n",
       "                                lpar=[],\n",
       "                                rpar=[],\n",
       "                            ),\n",
       "                            asname=None,\n",
       "                            comma=MaybeSentinel.DEFAULT,\n",
       "                        ),\n",
       "                    ],\n",
       "                    relative=[],\n",
       "                    lpar=None,\n",
       "                    rpar=None,\n",
       "                    semicolon=MaybeSentinel.DEFAULT,\n",
       "                    whitespace_after_from=SimpleWhitespace(\n",
       "                        value=' ',\n",
       "                    ),\n",
       "                    whitespace_before_import=SimpleWhitespace(\n",
       "                        value=' ',\n",
       "                    ),\n",
       "                    whitespace_after_import=SimpleWhitespace(\n",
       "                        value=' ',\n",
       "                    ),\n",
       "                ),\n",
       "            ],\n",
       "            leading_lines=[],\n",
       "            trailing_whitespace=TrailingWhitespace(\n",
       "                whitespace=SimpleWhitespace(\n",
       "                    value='',\n",
       "                ),\n",
       "                comment=None,\n",
       "                newline=Newline(\n",
       "                    value=None,\n",
       "                ),\n",
       "            ),\n",
       "        ),\n",
       "    ],\n",
       "    header=[],\n",
       "    footer=[],\n",
       "    encoding='utf-8',\n",
       "    default_indent='    ',\n",
       "    default_newline='\\n',\n",
       "    has_trailing_newline=False,\n",
       ")"
      ]
     },
     "execution_count": 15,
     "metadata": {},
     "output_type": "execute_result"
    }
   ],
   "source": [
    "# absolute import\n",
    "# ImportFrom.module is an Attribute and ImportFrom.relative is empty.\n",
    "cst.parse_module('from a.b import c')"
   ]
  },
  {
   "cell_type": "markdown",
   "id": "67bbddf2-a162-41d4-8f6a-10f416f63b12",
   "metadata": {},
   "source": [
    "see the differences more easily via diff:\n",
    "```\n",
    "$ python -c \"import libcst as cst; print(cst.parse_statement('from .b import x, y'))\" > import_from_dot_b.cst\n",
    "$ python -c \"import libcst as cst; print(cst.parse_statement('from a.b import x, y'))\" > import_from_a_dot_b.cst\n",
    "$ vi -d import_from_dot_b.cst import_from_a_dot_b.cst\n",
    "$ python -c \"import libcst as cst; print(cst.parse_statement('from . import x, y'))\" > import_from_dot.cst\n",
    "$ python -c \"import libcst as cst; print(cst.parse_statement('from a import x, y'))\" > import_from_a.cst\n",
    "$ vi -d import_from_dot.cst import_from_a.cst\n",
    "```"
   ]
  },
  {
   "cell_type": "code",
   "execution_count": 16,
   "id": "7568ff2d-d3f9-4f1d-b33f-a98d8592971f",
   "metadata": {
    "tags": []
   },
   "outputs": [],
   "source": [
    "class AbsolutifyImports(cst.CSTTransformer):\n",
    "    def visit_ImportFrom(self, node):\n",
    "        pass\n",
    "    def leave_ImportFrom(self, original_node, updated_node):\n",
    "        module = original_node.module\n",
    "        if module is None:\n",
    "            # None -> Name\n",
    "            module = cst.Name(project_name)\n",
    "        else:\n",
    "            # Name -> Attribute\n",
    "            module = cst.Attribute(\n",
    "                value=cst.Name(project_name),\n",
    "                attr=cst.Name(module.value),\n",
    "            )\n",
    "        return updated_node.with_changes(\n",
    "            module=module,\n",
    "            relative=[],\n",
    "        )\n",
    "\n",
    "transformer = AbsolutifyImports()"
   ]
  },
  {
   "cell_type": "code",
   "execution_count": 17,
   "id": "d4f37e73-0ff6-4a42-b5a4-78ac19f024ba",
   "metadata": {
    "tags": []
   },
   "outputs": [
    {
     "data": {
      "text/plain": [
       "Module(\n",
       "    body=[\n",
       "        SimpleStatementLine(\n",
       "            body=[\n",
       "                ImportFrom(\n",
       "                    module=Name(\n",
       "                        value='opentaxforms',\n",
       "                        lpar=[],\n",
       "                        rpar=[],\n",
       "                    ),\n",
       "                    names=[\n",
       "                        ImportAlias(\n",
       "                            name=Name(\n",
       "                                value='ut',\n",
       "                                lpar=[],\n",
       "                                rpar=[],\n",
       "                            ),\n",
       "                            asname=None,\n",
       "                            comma=MaybeSentinel.DEFAULT,\n",
       "                        ),\n",
       "                    ],\n",
       "                    relative=[],\n",
       "                    lpar=None,\n",
       "                    rpar=None,\n",
       "                    semicolon=MaybeSentinel.DEFAULT,\n",
       "                    whitespace_after_from=SimpleWhitespace(\n",
       "                        value=' ',\n",
       "                    ),\n",
       "                    whitespace_before_import=SimpleWhitespace(\n",
       "                        value=' ',\n",
       "                    ),\n",
       "                    whitespace_after_import=SimpleWhitespace(\n",
       "                        value=' ',\n",
       "                    ),\n",
       "                ),\n",
       "            ],\n",
       "            leading_lines=[],\n",
       "            trailing_whitespace=TrailingWhitespace(\n",
       "                whitespace=SimpleWhitespace(\n",
       "                    value='',\n",
       "                ),\n",
       "                comment=None,\n",
       "                newline=Newline(\n",
       "                    value=None,\n",
       "                ),\n",
       "            ),\n",
       "        ),\n",
       "    ],\n",
       "    header=[],\n",
       "    footer=[],\n",
       "    encoding='utf-8',\n",
       "    default_indent='    ',\n",
       "    default_newline='\\n',\n",
       "    has_trailing_newline=False,\n",
       ")"
      ]
     },
     "execution_count": 17,
     "metadata": {},
     "output_type": "execute_result"
    }
   ],
   "source": [
    "relative_code = cst.parse_module('from . import ut')\n",
    "absolutified_code = relative_code.visit(transformer)\n",
    "absolutified_code"
   ]
  },
  {
   "cell_type": "code",
   "execution_count": 18,
   "id": "ee52c894-e19e-4944-ab0b-449bed30e751",
   "metadata": {
    "tags": []
   },
   "outputs": [
    {
     "data": {
      "text/plain": [
       "'from opentaxforms import ut'"
      ]
     },
     "execution_count": 18,
     "metadata": {},
     "output_type": "execute_result"
    }
   ],
   "source": [
    "absolutified_code.code\n",
    "    # errors I ran into, and how to fix:\n",
    "    # TypeError: 'NoneType' object is not iterable\n",
    "        # relative=None  ->  relative=[]\n",
    "    # AttributeError: 'str' object has no attribute '_codegen'\n",
    "        # module.value -> cst.Name(module.value)"
   ]
  },
  {
   "cell_type": "code",
   "execution_count": 19,
   "id": "1fa0e409-7e45-4a41-997c-5efbe2dd8b60",
   "metadata": {
    "tags": []
   },
   "outputs": [
    {
     "data": {
      "text/plain": [
       "'from opentaxforms import ut'"
      ]
     },
     "execution_count": 19,
     "metadata": {},
     "output_type": "execute_result"
    }
   ],
   "source": [
    "# more compact round trip\n",
    "cst.parse_module('from . import ut').visit(transformer).code"
   ]
  },
  {
   "cell_type": "code",
   "execution_count": 20,
   "id": "daf17aa6-dee1-49d5-a789-6252078777d7",
   "metadata": {
    "tags": []
   },
   "outputs": [
    {
     "data": {
      "text/plain": [
       "'from opentaxforms.ut import Bag'"
      ]
     },
     "execution_count": 20,
     "metadata": {},
     "output_type": "execute_result"
    }
   ],
   "source": [
    "cst.parse_module('from .ut import Bag').visit(transformer).code"
   ]
  },
  {
   "cell_type": "markdown",
   "id": "d93b9c8c-b36a-4652-aadb-82f8f3c7f662",
   "metadata": {
    "tags": []
   },
   "source": [
    "- benefits of unlocking the information in our code\n",
    "    - refactor the code\n",
    "        - eg split a service call into user-awaited vs other processing to reduce latency.\n",
    "    - query the code\n",
    "        - eg are all our biz rules really confined to one module as we designed?\n",
    "    - test the code\n",
    "        - generate new tests\n",
    "    - optimize the design\n",
    "        - given an input sequence, a loss function, and a set of allowed refactorings, minimize!\n",
    "    - envisioning a future in which performance and memory optimizations [eg caching, sharding] are off-the-shelf refactorings.\n",
    "- links\n",
    "    - libcst\n",
    "        - v 0.3\n",
    "        - up to python 3.8 grammar\n",
    "        - https://github.com/Instagram/LibCST/\n",
    "        - https://instagram-engineering.com/static-analysis-at-scale-an-instagram-story-8f498ab71a0c\n",
    "        - https://chairnerd.seatgeek.com/refactoring-python-with-libcst/\n",
    "    - bowler is based on LibCST  https://pybowler.io\n",
    "    - rope\n",
    "        - https://github.com/python-rope/rope\n",
    "    - RedBaron  https://github.com/PyCQA/redbaron\n",
    "        - based on Baron\n",
    "    - Baron\n",
    "        - https://github.com/PyCQA/baron\n",
    "        - Baron is a Full Syntax Tree (FST) library for Python. By opposition to an AST which drops some syntax information in the process of its creation (like empty lines, comments, formatting), a FST keeps everything and guarantees the operation fst_to_code(code_to_fst(source_code)) == source_code. \n",
    "        - Think of Baron as the \"bytecode of python source code\" and RedBaron as some sort of usable layer on top of it.\n",
    "        - up to python 3.7 grammar\n",
    "    - astroid\n",
    "        - ast-based foundation for pylint; can analyze code but is not reversible.\n",
    "    - Bicycle Repair Man\n",
    "        - last released 2004\n",
    "        - http://bicyclerepair.sourceforge.net/\n",
    "    - uses ast to absolutify imports:  https://github.com/MarcoGorelli/absolufy-imports/\n",
    "- want to talk about this series?  john@saponara.us"
   ]
  }
 ],
 "metadata": {
  "kernelspec": {
   "display_name": "Python 3",
   "language": "python",
   "name": "python3"
  },
  "language_info": {
   "codemirror_mode": {
    "name": "ipython",
    "version": 3
   },
   "file_extension": ".py",
   "mimetype": "text/x-python",
   "name": "python",
   "nbconvert_exporter": "python",
   "pygments_lexer": "ipython3",
   "version": "3.9.6"
  }
 },
 "nbformat": 4,
 "nbformat_minor": 5
}
